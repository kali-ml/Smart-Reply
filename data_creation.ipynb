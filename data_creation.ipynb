{
 "cells": [
  {
   "cell_type": "markdown",
   "metadata": {},
   "source": [
    "# Data"
   ]
  },
  {
   "cell_type": "markdown",
   "metadata": {},
   "source": [
    "__Download data from:http://jmcauley.ucsd.edu/data/amazon/qa/.__"
   ]
  },
  {
   "cell_type": "code",
   "execution_count": 1,
   "metadata": {},
   "outputs": [],
   "source": [
    "import pandas as pd\n",
    "import gzip\n",
    "\n",
    "def parse(path):\n",
    "    g = gzip.open(path, 'rb')\n",
    "    for l in g:\n",
    "        yield eval(l)\n",
    "\n",
    "def getDF(path):\n",
    "    i = 0\n",
    "    df = {}\n",
    "    for d in parse(path):\n",
    "        df[i] = d\n",
    "        i += 1\n",
    "    return pd.DataFrame.from_dict(df, orient='index')"
   ]
  },
  {
   "cell_type": "markdown",
   "metadata": {},
   "source": [
    "## Loading Data"
   ]
  },
  {
   "cell_type": "code",
   "execution_count": 2,
   "metadata": {},
   "outputs": [],
   "source": [
    "qa_Appliances = getDF('dataset/qa_Appliances.json.gz')\n",
    "qa_Arts_Crafts_and_Sewing = getDF('dataset/qa_Arts_Crafts_and_Sewing.json.gz')\n",
    "qa_Automotive = getDF('dataset/qa_Automotive.json.gz')\n",
    "qa_Baby = getDF('dataset/qa_Baby.json.gz')\n",
    "qa_Beauty = getDF('dataset/qa_Beauty.json.gz')\n",
    "qa_Cell_Phones_and_Accessories = getDF('dataset/qa_Cell_Phones_and_Accessories.json.gz')\n",
    "qa_Clothing_Shoes_and_Jewelry = getDF('dataset/qa_Clothing_Shoes_and_Jewelry.json.gz')\n",
    "qa_Electronics = getDF('dataset/qa_Electronics.json.gz')\n",
    "qa_Grocery_and_Gourmet_Food = getDF('dataset/qa_Grocery_and_Gourmet_Food.json.gz')\n",
    "qa_Health_and_Personal_Care = getDF('dataset/qa_Health_and_Personal_Care.json.gz')\n",
    "qa_Home_and_Kitchen = getDF('dataset/qa_Home_and_Kitchen.json.gz')"
   ]
  },
  {
   "cell_type": "code",
   "execution_count": 3,
   "metadata": {},
   "outputs": [],
   "source": [
    "qa_Industrial_and_Scientific = getDF('dataset/qa_Industrial_and_Scientific.json.gz')\n",
    "qa_Musical_Instruments = getDF('dataset/qa_Musical_Instruments.json.gz')\n",
    "qa_Office_Products = getDF('dataset/qa_Office_Products.json.gz')\n",
    "qa_Patio_Lawn_and_Garden = getDF('dataset/qa_Patio_Lawn_and_Garden.json.gz')\n",
    "qa_Pet_Supplies = getDF('dataset/qa_Pet_Supplies.json.gz')"
   ]
  },
  {
   "cell_type": "code",
   "execution_count": 4,
   "metadata": {},
   "outputs": [],
   "source": [
    "qa_Software = getDF('dataset/qa_Software.json.gz')\n",
    "qa_Sports_and_Outdoors = getDF('dataset/qa_Sports_and_Outdoors.json.gz')\n",
    "qa_Tools_and_Home_Improvement = getDF('dataset/qa_Tools_and_Home_Improvement.json.gz')\n",
    "qa_Toys_and_Games = getDF('dataset/qa_Toys_and_Games.json.gz')\n",
    "qa_Video_Games = getDF('dataset/qa_Video_Games.json.gz')"
   ]
  },
  {
   "cell_type": "markdown",
   "metadata": {},
   "source": [
    "## Concatenating all the file"
   ]
  },
  {
   "cell_type": "code",
   "execution_count": 5,
   "metadata": {},
   "outputs": [],
   "source": [
    "df = pd.concat([qa_Appliances,qa_Arts_Crafts_and_Sewing,qa_Automotive,qa_Baby,qa_Beauty,qa_Cell_Phones_and_Accessories,\n",
    "                qa_Clothing_Shoes_and_Jewelry,qa_Electronics,qa_Grocery_and_Gourmet_Food,qa_Health_and_Personal_Care,\n",
    "                qa_Home_and_Kitchen,qa_Industrial_and_Scientific,qa_Musical_Instruments,qa_Office_Products,qa_Patio_Lawn_and_Garden,\n",
    "                qa_Pet_Supplies,qa_Software,qa_Sports_and_Outdoors,qa_Tools_and_Home_Improvement,qa_Toys_and_Games,qa_Video_Games])"
   ]
  },
  {
   "cell_type": "code",
   "execution_count": 6,
   "metadata": {},
   "outputs": [
    {
     "data": {
      "text/plain": [
       "(1396896, 7)"
      ]
     },
     "execution_count": 6,
     "metadata": {},
     "output_type": "execute_result"
    }
   ],
   "source": [
    "df.shape"
   ]
  },
  {
   "cell_type": "code",
   "execution_count": 7,
   "metadata": {},
   "outputs": [
    {
     "data": {
      "text/html": [
       "<div>\n",
       "<style scoped>\n",
       "    .dataframe tbody tr th:only-of-type {\n",
       "        vertical-align: middle;\n",
       "    }\n",
       "\n",
       "    .dataframe tbody tr th {\n",
       "        vertical-align: top;\n",
       "    }\n",
       "\n",
       "    .dataframe thead th {\n",
       "        text-align: right;\n",
       "    }\n",
       "</style>\n",
       "<table border=\"1\" class=\"dataframe\">\n",
       "  <thead>\n",
       "    <tr style=\"text-align: right;\">\n",
       "      <th></th>\n",
       "      <th>questionType</th>\n",
       "      <th>asin</th>\n",
       "      <th>answerTime</th>\n",
       "      <th>unixTime</th>\n",
       "      <th>question</th>\n",
       "      <th>answerType</th>\n",
       "      <th>answer</th>\n",
       "    </tr>\n",
       "  </thead>\n",
       "  <tbody>\n",
       "    <tr>\n",
       "      <th>0</th>\n",
       "      <td>yes/no</td>\n",
       "      <td>B00004U9JP</td>\n",
       "      <td>Jun 27, 2014</td>\n",
       "      <td>1.403852e+09</td>\n",
       "      <td>I have a 9 year old Badger 1 that needs replac...</td>\n",
       "      <td>?</td>\n",
       "      <td>I replaced my old one with this without a hitch.</td>\n",
       "    </tr>\n",
       "    <tr>\n",
       "      <th>1</th>\n",
       "      <td>open-ended</td>\n",
       "      <td>B00004U9JP</td>\n",
       "      <td>Apr 28, 2014</td>\n",
       "      <td>1.398668e+09</td>\n",
       "      <td>model number</td>\n",
       "      <td>NaN</td>\n",
       "      <td>This may help InSinkErator Model BADGER-1: Bad...</td>\n",
       "    </tr>\n",
       "    <tr>\n",
       "      <th>2</th>\n",
       "      <td>yes/no</td>\n",
       "      <td>B00004U9JP</td>\n",
       "      <td>Aug 25, 2014</td>\n",
       "      <td>1.408950e+09</td>\n",
       "      <td>can I replace Badger 1 1/3 with a Badger 5 1/2...</td>\n",
       "      <td>?</td>\n",
       "      <td>Plumbing connections will vary with different ...</td>\n",
       "    </tr>\n",
       "    <tr>\n",
       "      <th>3</th>\n",
       "      <td>yes/no</td>\n",
       "      <td>B00004U9JP</td>\n",
       "      <td>Nov 3, 2014</td>\n",
       "      <td>1.415002e+09</td>\n",
       "      <td>Does this come with power cord and dishwasher ...</td>\n",
       "      <td>?</td>\n",
       "      <td>It does not come with a power cord. It does co...</td>\n",
       "    </tr>\n",
       "    <tr>\n",
       "      <th>4</th>\n",
       "      <td>open-ended</td>\n",
       "      <td>B00004U9JP</td>\n",
       "      <td>Jun 21, 2014</td>\n",
       "      <td>1.403334e+09</td>\n",
       "      <td>loud noise inside when turned on. sounds like ...</td>\n",
       "      <td>NaN</td>\n",
       "      <td>Check if you dropped something inside.Usually ...</td>\n",
       "    </tr>\n",
       "  </tbody>\n",
       "</table>\n",
       "</div>"
      ],
      "text/plain": [
       "  questionType        asin    answerTime      unixTime  \\\n",
       "0       yes/no  B00004U9JP  Jun 27, 2014  1.403852e+09   \n",
       "1   open-ended  B00004U9JP  Apr 28, 2014  1.398668e+09   \n",
       "2       yes/no  B00004U9JP  Aug 25, 2014  1.408950e+09   \n",
       "3       yes/no  B00004U9JP   Nov 3, 2014  1.415002e+09   \n",
       "4   open-ended  B00004U9JP  Jun 21, 2014  1.403334e+09   \n",
       "\n",
       "                                            question answerType  \\\n",
       "0  I have a 9 year old Badger 1 that needs replac...          ?   \n",
       "1                                       model number        NaN   \n",
       "2  can I replace Badger 1 1/3 with a Badger 5 1/2...          ?   \n",
       "3  Does this come with power cord and dishwasher ...          ?   \n",
       "4  loud noise inside when turned on. sounds like ...        NaN   \n",
       "\n",
       "                                              answer  \n",
       "0   I replaced my old one with this without a hitch.  \n",
       "1  This may help InSinkErator Model BADGER-1: Bad...  \n",
       "2  Plumbing connections will vary with different ...  \n",
       "3  It does not come with a power cord. It does co...  \n",
       "4  Check if you dropped something inside.Usually ...  "
      ]
     },
     "execution_count": 7,
     "metadata": {},
     "output_type": "execute_result"
    }
   ],
   "source": [
    "df.head()"
   ]
  },
  {
   "cell_type": "markdown",
   "metadata": {},
   "source": [
    "## Saving data to disk"
   ]
  },
  {
   "cell_type": "code",
   "execution_count": 8,
   "metadata": {},
   "outputs": [],
   "source": [
    "df.to_csv(\"data.csv\",index=False)"
   ]
  },
  {
   "cell_type": "code",
   "execution_count": null,
   "metadata": {},
   "outputs": [],
   "source": []
  }
 ],
 "metadata": {
  "kernelspec": {
   "display_name": "Python 3",
   "language": "python",
   "name": "python3"
  },
  "language_info": {
   "codemirror_mode": {
    "name": "ipython",
    "version": 3
   },
   "file_extension": ".py",
   "mimetype": "text/x-python",
   "name": "python",
   "nbconvert_exporter": "python",
   "pygments_lexer": "ipython3",
   "version": "3.6.5"
  }
 },
 "nbformat": 4,
 "nbformat_minor": 4
}
