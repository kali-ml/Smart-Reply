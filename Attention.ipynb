{
 "cells": [
  {
   "cell_type": "markdown",
   "metadata": {
    "colab_type": "text",
    "id": "a5zKcYNQmuwM"
   },
   "source": [
    "# Attention Model"
   ]
  },
  {
   "cell_type": "code",
   "execution_count": 2,
   "metadata": {
    "colab": {
     "base_uri": "https://localhost:8080/",
     "height": 34
    },
    "colab_type": "code",
    "id": "lWfdrXotmuwN",
    "outputId": "8a1a63da-b76d-4dc4-98f8-9b0764dfb1f2"
   },
   "outputs": [
    {
     "name": "stderr",
     "output_type": "stream",
     "text": [
      "Using TensorFlow backend.\n"
     ]
    }
   ],
   "source": [
    "import warnings\n",
    "warnings.filterwarnings(\"ignore\")\n",
    "import pandas as pd\n",
    "import seaborn as sns\n",
    "import matplotlib.pyplot as plt\n",
    "import numpy as np\n",
    "from keras.utils import np_utils\n",
    "from tensorflow.keras.layers import Embedding, LSTM, Dense, Flatten, Dropout, Input, BatchNormalization, TimeDistributed, Attention, Bidirectional, Concatenate, GRU\n",
    "from tensorflow.keras.models import Model\n",
    "from tensorflow.keras.preprocessing.text import Tokenizer\n",
    "from tensorflow.keras.preprocessing.sequence import pad_sequences\n",
    "from sklearn.model_selection import train_test_split\n",
    "import random as rn\n",
    "import tensorflow as tf\n",
    "import pickle\n",
    "from tensorflow.keras import models\n",
    "from tensorflow.keras.utils import plot_model\n",
    "import os"
   ]
  },
  {
   "cell_type": "markdown",
   "metadata": {
    "colab_type": "text",
    "id": "a3GH5jZdmuwR"
   },
   "source": [
    "## 1. Loading Data"
   ]
  },
  {
   "cell_type": "code",
   "execution_count": null,
   "metadata": {
    "colab": {},
    "colab_type": "code",
    "id": "FdH1iTpLmuwR"
   },
   "outputs": [],
   "source": [
    "#loading data\n",
    "x_train = pd.read_pickle('train_data.pickle')\n",
    "y_train = pd.read_pickle('train_target.pickle')\n",
    "x_test = pd.read_pickle('test_data.pickle')\n",
    "y_test = pd.read_pickle('test_target.pickle')"
   ]
  },
  {
   "cell_type": "markdown",
   "metadata": {
    "colab_type": "text",
    "id": "aXJolAhamuwU"
   },
   "source": [
    "### 1.1 Loading question vectorizer"
   ]
  },
  {
   "cell_type": "code",
   "execution_count": null,
   "metadata": {
    "colab": {},
    "colab_type": "code",
    "id": "d-7KEVssmuwV"
   },
   "outputs": [],
   "source": [
    "#loading the vecotirizer\n",
    "que = pd.read_pickle('question_tokenizer.pickle')"
   ]
  },
  {
   "cell_type": "code",
   "execution_count": null,
   "metadata": {
    "colab": {},
    "colab_type": "code",
    "id": "1VO3f33HmuwX"
   },
   "outputs": [],
   "source": [
    "#converting the question data to integer\n",
    "encoded_train = que.texts_to_sequences(x_train)\n",
    "encoded_test = que.texts_to_sequences(x_test)\n",
    "pad_train = pad_sequences(encoded_train, padding = 'post', maxlen = 36)\n",
    "pad_test = pad_sequences(encoded_test, padding = 'post', maxlen = 36)"
   ]
  },
  {
   "cell_type": "code",
   "execution_count": null,
   "metadata": {
    "colab": {
     "base_uri": "https://localhost:8080/",
     "height": 34
    },
    "colab_type": "code",
    "id": "If9KTRdtmuwa",
    "outputId": "e85c2d50-26aa-42f5-c5c0-aa73f97c22f1"
   },
   "outputs": [
    {
     "name": "stdout",
     "output_type": "stream",
     "text": [
      "size of vocabulary: 45136\n"
     ]
    }
   ],
   "source": [
    "question_vocab_size = len(que.word_index) + 1\n",
    "print(\"size of vocabulary:\",question_vocab_size)"
   ]
  },
  {
   "cell_type": "markdown",
   "metadata": {
    "colab_type": "text",
    "id": "4JOlDgVKmuwc"
   },
   "source": [
    "### 1.2 Loading answer vectorizer"
   ]
  },
  {
   "cell_type": "code",
   "execution_count": null,
   "metadata": {
    "colab": {},
    "colab_type": "code",
    "id": "FttY9S28muwd"
   },
   "outputs": [],
   "source": [
    "#loading the vecotirizer\n",
    "ans = pd.read_pickle('answer_tokenizer.pickle')"
   ]
  },
  {
   "cell_type": "code",
   "execution_count": null,
   "metadata": {
    "colab": {},
    "colab_type": "code",
    "id": "XHZiqNN5muwf"
   },
   "outputs": [],
   "source": [
    "#converting the answer data to integer\n",
    "decoder_in_train = ans.texts_to_sequences(y_train['decoder_input'])\n",
    "decoder_in_test = ans.texts_to_sequences(y_test['decoder_input'])\n",
    "decoder_out_train = ans.texts_to_sequences(y_train['decoder_output']) \n",
    "decoder_out_test = ans.texts_to_sequences(y_test['decoder_output'])\n",
    "\n",
    "decoder_in_train = pad_sequences(decoder_in_train, padding = 'post', maxlen = 15)\n",
    "decoder_in_test = pad_sequences(decoder_in_test, padding = 'post', maxlen = 15)\n",
    "decoder_out_train = pad_sequences(decoder_out_train, padding = 'post', maxlen = 15)\n",
    "decoder_out_test = pad_sequences(decoder_out_test, padding = 'post', maxlen = 15)"
   ]
  },
  {
   "cell_type": "code",
   "execution_count": null,
   "metadata": {
    "colab": {
     "base_uri": "https://localhost:8080/",
     "height": 34
    },
    "colab_type": "code",
    "id": "lWWU8N6Umuwi",
    "outputId": "9dd49921-53bf-4724-8e25-f67395fe9ff6"
   },
   "outputs": [
    {
     "name": "stdout",
     "output_type": "stream",
     "text": [
      "Size of Vocabulary: 33457\n"
     ]
    }
   ],
   "source": [
    "target_vocab_size = len(ans.word_index)+1\n",
    "print('Size of Vocabulary:', target_vocab_size)"
   ]
  },
  {
   "cell_type": "code",
   "execution_count": null,
   "metadata": {
    "colab": {},
    "colab_type": "code",
    "id": "FuveJWiPmuwm"
   },
   "outputs": [],
   "source": [
    "ans_index_word = {}\n",
    "ans_word_index = {}\n",
    "for key,value in ans.word_index.items():\n",
    "    ans_index_word[value] = key \n",
    "    ans_word_index[key] = value"
   ]
  },
  {
   "cell_type": "code",
   "execution_count": null,
   "metadata": {
    "colab": {
     "base_uri": "https://localhost:8080/",
     "height": 50
    },
    "colab_type": "code",
    "id": "yhxV7zmWmuwp",
    "outputId": "6a261c34-2b5e-44f2-b9fd-b5fe4f5afd3a"
   },
   "outputs": [
    {
     "name": "stdout",
     "output_type": "stream",
     "text": [
      "end\n",
      "start\n"
     ]
    }
   ],
   "source": [
    "print(ans_index_word.get(1))\n",
    "print(ans_index_word.get(2))"
   ]
  },
  {
   "cell_type": "code",
   "execution_count": null,
   "metadata": {
    "colab": {
     "base_uri": "https://localhost:8080/",
     "height": 185
    },
    "colab_type": "code",
    "id": "hJeHMEjPmuws",
    "outputId": "de5fff74-d6b8-4641-8df8-ade510e24f2c"
   },
   "outputs": [
    {
     "name": "stdout",
     "output_type": "stream",
     "text": [
      "turbo core work\n",
      "[2952  794    7    0    0    0    0    0    0    0    0    0    0    0\n",
      "    0    0    0    0    0    0    0    0    0    0    0    0    0    0\n",
      "    0    0    0    0    0    0    0    0]\n",
      "<start> muy bien excelente compra\n",
      "[   2 1937 2572 1983 8013    0    0    0    0    0    0    0    0    0\n",
      "    0]\n",
      "muy bien excelente compra <end>\n",
      "[1937 2572 1983 8013    1    0    0    0    0    0    0    0    0    0\n",
      "    0]\n"
     ]
    }
   ],
   "source": [
    "#printing some data point\n",
    "print(x_train.values[17])\n",
    "print(pad_train[17])\n",
    "print(y_train['decoder_input'].values[17])\n",
    "print(decoder_in_train[17])\n",
    "print(y_train['decoder_output'].values[17])\n",
    "print(decoder_out_train[17])"
   ]
  },
  {
   "cell_type": "markdown",
   "metadata": {
    "colab_type": "text",
    "id": "OwGYkadvmuww"
   },
   "source": [
    "## 2. Model"
   ]
  },
  {
   "cell_type": "code",
   "execution_count": null,
   "metadata": {
    "colab": {},
    "colab_type": "code",
    "id": "nK1pel9s7Wot"
   },
   "outputs": [],
   "source": [
    "np.random.seed(42)\n",
    "tf.random.set_seed(32)\n",
    "rn.seed(12)\n",
    "\n",
    "def get_attention_model():\n",
    "\n",
    "    #encoder\n",
    "    encoder_input = Input(shape = (pad_train.shape[1],), name = 'encoder_input')\n",
    "    encoder_embedding_layer = Embedding(question_vocab_size, 32, mask_zero = True, name = 'encoder_embedding')\n",
    "    encoder_embedding = encoder_embedding_layer(encoder_input)\n",
    "\n",
    "    encoder_lstm = LSTM(32, return_state = True, activation=\"tanh\", recurrent_activation=\"sigmoid\", use_bias=True, kernel_initializer=tf.keras.initializers.glorot_uniform(seed=45),\n",
    "                        recurrent_initializer=tf.keras.initializers.orthogonal(seed=54), bias_initializer=\"zeros\", return_sequences = True, name = 'encoder_lstm')\n",
    "    \n",
    "    encoder_output, state_h, state_c = encoder_lstm(encoder_embedding)\n",
    "    encoder_state = [state_h, state_c]\n",
    "\n",
    "    #decoder\n",
    "    decoder_input = Input(shape = (None,), name = 'decoder_input')\n",
    "    decoder_embedding_layer = Embedding(target_vocab_size, 32, mask_zero=True, name = 'decoder_embedding')\n",
    "    decoder_embedding = decoder_embedding_layer(decoder_input)\n",
    "\n",
    "    decoder_lstm = LSTM(32, return_sequences = True, return_state = True, activation=\"tanh\", recurrent_activation=\"sigmoid\", use_bias=True, kernel_initializer=tf.keras.initializers.glorot_uniform(seed=45),\n",
    "                        recurrent_initializer=tf.keras.initializers.orthogonal(seed=54), bias_initializer=\"zeros\", name = 'decoder_lstm')\n",
    "    \n",
    "    decoder_output, _, _= decoder_lstm(decoder_embedding, initial_state = encoder_state)\n",
    "\n",
    "\n",
    "    #Attention layer\n",
    "    attention_layer = Attention(name = 'attention_layer')\n",
    "    attention_output = attention_layer([decoder_output, encoder_output])\n",
    "    \n",
    "    concat_layer = Concatenate(axis = -1)\n",
    "    concat = concat_layer([decoder_output, attention_output])\n",
    "    \n",
    "\n",
    "\n",
    "    #output\n",
    "    dense_layer = TimeDistributed(Dense(target_vocab_size, activation = 'softmax', kernel_initializer=tf.keras.initializers.glorot_uniform(seed=45), name = 'dense_layer'))\n",
    "    output = dense_layer(concat)\n",
    "\n",
    "    model = Model([encoder_input, decoder_input], output)\n",
    "\n",
    "    return model"
   ]
  },
  {
   "cell_type": "code",
   "execution_count": null,
   "metadata": {
    "colab": {
     "base_uri": "https://localhost:8080/",
     "height": 541
    },
    "colab_type": "code",
    "id": "YOrmXVGomuw0",
    "outputId": "b71c2013-e85a-4e2c-ab4b-e1df9ebc5c81"
   },
   "outputs": [
    {
     "name": "stdout",
     "output_type": "stream",
     "text": [
      "Model: \"model\"\n",
      "________________________________________________________________________________________________________________________________________________________________________________________________________\n",
      "Layer (type)                                                      Output Shape                                Param #                 Connected to                                                      \n",
      "========================================================================================================================================================================================================\n",
      "encoder_input (InputLayer)                                        [(None, 36)]                                0                                                                                         \n",
      "________________________________________________________________________________________________________________________________________________________________________________________________________\n",
      "decoder_input (InputLayer)                                        [(None, None)]                              0                                                                                         \n",
      "________________________________________________________________________________________________________________________________________________________________________________________________________\n",
      "encoder_embedding (Embedding)                                     (None, 36, 32)                              1444352                 encoder_input[0][0]                                               \n",
      "________________________________________________________________________________________________________________________________________________________________________________________________________\n",
      "decoder_embedding (Embedding)                                     (None, None, 32)                            1070624                 decoder_input[0][0]                                               \n",
      "________________________________________________________________________________________________________________________________________________________________________________________________________\n",
      "encoder_lstm (LSTM)                                               [(None, 36, 32), (None, 32), (None, 32)]    8320                    encoder_embedding[0][0]                                           \n",
      "________________________________________________________________________________________________________________________________________________________________________________________________________\n",
      "decoder_lstm (LSTM)                                               [(None, None, 32), (None, 32), (None, 32)]  8320                    decoder_embedding[0][0]                                           \n",
      "                                                                                                                                      encoder_lstm[0][1]                                                \n",
      "                                                                                                                                      encoder_lstm[0][2]                                                \n",
      "________________________________________________________________________________________________________________________________________________________________________________________________________\n",
      "attention_layer (Attention)                                       (None, None, 32)                            0                       decoder_lstm[0][0]                                                \n",
      "                                                                                                                                      encoder_lstm[0][0]                                                \n",
      "________________________________________________________________________________________________________________________________________________________________________________________________________\n",
      "concatenate (Concatenate)                                         (None, None, 64)                            0                       decoder_lstm[0][0]                                                \n",
      "                                                                                                                                      attention_layer[0][0]                                             \n",
      "________________________________________________________________________________________________________________________________________________________________________________________________________\n",
      "time_distributed (TimeDistributed)                                (None, None, 33457)                         2174705                 concatenate[0][0]                                                 \n",
      "========================================================================================================================================================================================================\n",
      "Total params: 4,706,321\n",
      "Trainable params: 4,706,321\n",
      "Non-trainable params: 0\n",
      "________________________________________________________________________________________________________________________________________________________________________________________________________\n"
     ]
    }
   ],
   "source": [
    "attention_model = get_attention_model()\n",
    "attention_model.summary(line_length = 200)"
   ]
  },
  {
   "cell_type": "code",
   "execution_count": null,
   "metadata": {
    "colab": {
     "base_uri": "https://localhost:8080/",
     "height": 354
    },
    "colab_type": "code",
    "id": "w-fC6jUpmuw4",
    "outputId": "37385ac0-9b0d-461c-b430-c226e39357a7"
   },
   "outputs": [
    {
     "name": "stdout",
     "output_type": "stream",
     "text": [
      "Train on 125803 samples, validate on 13979 samples\n",
      "Epoch 1/25\n",
      "125803/125803 [==============================] - 198s 2ms/sample - loss: 2.8171 - val_loss: 2.6207\n",
      "Epoch 2/25\n",
      "125803/125803 [==============================] - 190s 2ms/sample - loss: 2.5295 - val_loss: 2.4578\n",
      "Epoch 3/25\n",
      "125803/125803 [==============================] - 193s 2ms/sample - loss: 2.3495 - val_loss: 2.3238\n",
      "Epoch 4/25\n",
      "125803/125803 [==============================] - 190s 2ms/sample - loss: 2.2324 - val_loss: 2.2481\n",
      "Epoch 5/25\n",
      "125803/125803 [==============================] - 191s 2ms/sample - loss: 2.1421 - val_loss: 2.1917\n",
      "Epoch 6/25\n",
      "125803/125803 [==============================] - 190s 2ms/sample - loss: 2.0680 - val_loss: 2.1542: 6s - - ETA: 3s - loss: 2 - ETA: 2\n",
      "Epoch 7/25\n",
      "125803/125803 [==============================] - 190s 2ms/sample - loss: 2.0072 - val_loss: 2.1274\n",
      "Epoch 8/25\n",
      "125803/125803 [==============================] - 190s 2ms/sample - loss: 1.9555 - val_loss: 2.1090\n",
      "Epoch 9/25\n",
      "125803/125803 [==============================] - 190s 2ms/sample - loss: 1.9102 - val_loss: 2.0974\n",
      "Epoch 10/25\n",
      "125803/125803 [==============================] - 190s 2ms/sample - loss: 1.8693 - val_loss: 2.0874\n",
      "Epoch 11/25\n",
      "125803/125803 [==============================] - 190s 2ms/sample - loss: 1.8322 - val_loss: 2.0801\n",
      "Epoch 12/25\n",
      "125803/125803 [==============================] - 190s 2ms/sample - loss: 1.7978 - val_loss: 2.0763 \n",
      "Epoch 13/25\n",
      "125803/125803 [==============================] - 190s 2ms/sample - loss: 1.7661 - val_loss: 2.0737\n",
      "Epoch 14/25\n",
      "125803/125803 [==============================] - 190s 2ms/sample - loss: 1.7365 - val_loss: 2.0725\n",
      "Epoch 15/25\n",
      "125803/125803 [==============================] - 190s 2ms/sample - loss: 1.7086 - val_loss: 2.0724\n",
      "Epoch 16/25\n",
      "125803/125803 [==============================] - 190s 2ms/sample - loss: 1.6825 - val_loss: 2.0752loss: \n",
      "Epoch 17/25\n",
      "125803/125803 [==============================] - 190s 2ms/sample - loss: 1.6578 - val_loss: 2.0762\n",
      "Epoch 18/25\n",
      "125803/125803 [==============================] - 190s 2ms/sample - loss: 1.6344 - val_loss: 2.0777\n",
      "Epoch 19/25\n",
      "125803/125803 [==============================] - 191s 2ms/sample - loss: 1.6123 - val_loss: 2.0836\n",
      "Epoch 20/25\n",
      "125803/125803 [==============================] - 190s 2ms/sample - loss: 1.5913 - val_loss: 2.0865\n",
      "Epoch 21/25\n",
      "125803/125803 [==============================] - 190s 2ms/sample - loss: 1.5714 - val_loss: 2.0893\n",
      "Epoch 22/25\n",
      "125803/125803 [==============================] - 190s 2ms/sample - loss: 1.5528 - val_loss: 2.0927\n",
      "Epoch 23/25\n",
      "125803/125803 [==============================] - 191s 2ms/sample - loss: 1.5349 - val_loss: 2.0982\n",
      "Epoch 24/25\n",
      "125803/125803 [==============================] - 191s 2ms/sample - loss: 1.5179 - val_loss: 2.1017\n",
      "Epoch 25/25\n",
      "125803/125803 [==============================] - 191s 2ms/sample - loss: 1.5019 - val_loss: 2.1061\n"
     ]
    },
    {
     "data": {
      "text/plain": [
       "<tensorflow.python.keras.callbacks.History at 0x18c1f293da0>"
      ]
     },
     "execution_count": 14,
     "metadata": {
      "tags": []
     },
     "output_type": "execute_result"
    }
   ],
   "source": [
    "log_path = os.path.join(\"logs\")\n",
    "tensorboard_callback = tf.keras.callbacks.TensorBoard(log_dir = log_path, histogram_freq=1) \n",
    "\n",
    "attention_model.compile(optimizer='adam', loss = 'sparse_categorical_crossentropy')\n",
    "attention_model.fit([pad_train, decoder_in_train], decoder_out_train, epochs = 25, batch_size = 128, validation_split = 0.1, callbacks = [tensorboard_callback])"
   ]
  },
  {
   "cell_type": "code",
   "execution_count": null,
   "metadata": {
    "colab": {},
    "colab_type": "code",
    "id": "GlIau-JMmuw6",
    "outputId": "d0e2cffc-eab5-4874-bde1-b47cb32ef791"
   },
   "outputs": [
    {
     "data": {
      "text/plain": [
       "Reusing TensorBoard on port 6006 (pid 6396), started 0:01:00 ago. (Use '!kill 6396' to kill it.)"
      ]
     },
     "metadata": {
      "tags": []
     },
     "output_type": "display_data"
    },
    {
     "data": {
      "text/html": [
       "\n",
       "      <iframe id=\"tensorboard-frame-44dcda6a797d76de\" width=\"100%\" height=\"800\" frameborder=\"0\">\n",
       "      </iframe>\n",
       "      <script>\n",
       "        (function() {\n",
       "          const frame = document.getElementById(\"tensorboard-frame-44dcda6a797d76de\");\n",
       "          const url = new URL(\"/\", window.location);\n",
       "          url.port = 6006;\n",
       "          frame.src = url;\n",
       "        })();\n",
       "      </script>\n",
       "  "
      ],
      "text/plain": [
       "<IPython.core.display.HTML object>"
      ]
     },
     "metadata": {
      "tags": []
     },
     "output_type": "display_data"
    }
   ],
   "source": [
    "%reload_ext tensorboard\n",
    "%tensorboard --logdir logs"
   ]
  },
  {
   "cell_type": "code",
   "execution_count": null,
   "metadata": {
    "colab": {},
    "colab_type": "code",
    "id": "8Iu0oTaEmuw8"
   },
   "outputs": [],
   "source": [
    "attention_model.save('attention_weights.h5')"
   ]
  },
  {
   "cell_type": "markdown",
   "metadata": {
    "colab_type": "text",
    "id": "5O0KgA4pA0af"
   },
   "source": [
    "## 3. Inference "
   ]
  },
  {
   "cell_type": "code",
   "execution_count": 3,
   "metadata": {
    "colab": {},
    "colab_type": "code",
    "id": "zRppKTWqksv2"
   },
   "outputs": [],
   "source": [
    "attention_model = models.load_model('attention_weights.h5')"
   ]
  },
  {
   "cell_type": "code",
   "execution_count": 4,
   "metadata": {
    "colab": {
     "base_uri": "https://localhost:8080/",
     "height": 168
    },
    "colab_type": "code",
    "id": "PZ4xDe9hk8zq",
    "outputId": "a86cce45-a9a4-44c2-931b-0c8c11d04b52"
   },
   "outputs": [
    {
     "data": {
      "text/plain": [
       "[<tensorflow.python.keras.engine.input_layer.InputLayer at 0x19b62eaaa90>,\n",
       " <tensorflow.python.keras.engine.input_layer.InputLayer at 0x19b62eaaf28>,\n",
       " <tensorflow.python.keras.layers.embeddings.Embedding at 0x19b62eda0f0>,\n",
       " <tensorflow.python.keras.layers.embeddings.Embedding at 0x19b62eda208>,\n",
       " <tensorflow.python.keras.layers.recurrent.LSTM at 0x19b62eda2b0>,\n",
       " <tensorflow.python.keras.layers.recurrent.LSTM at 0x19b62eda978>,\n",
       " <tensorflow.python.keras.layers.dense_attention.Attention at 0x19b62edada0>,\n",
       " <tensorflow.python.keras.layers.merge.Concatenate at 0x19b62edaef0>,\n",
       " <tensorflow.python.keras.layers.wrappers.TimeDistributed at 0x19b62b8fb70>]"
      ]
     },
     "execution_count": 4,
     "metadata": {},
     "output_type": "execute_result"
    }
   ],
   "source": [
    "attention_model.layers"
   ]
  },
  {
   "cell_type": "code",
   "execution_count": 6,
   "metadata": {
    "colab": {
     "base_uri": "https://localhost:8080/",
     "height": 754
    },
    "colab_type": "code",
    "id": "IVw-uFlmBXUN",
    "outputId": "258f3811-73c9-464a-d375-918fcd2a4c23"
   },
   "outputs": [
    {
     "data": {
      "image/png": "[encoded data removed]",
      "text/plain": [
       "<IPython.core.display.Image object>"
      ]
     },
     "execution_count": 6,
     "metadata": {
      "tags": []
     },
     "output_type": "execute_result"
    }
   ],
   "source": [
    "plot_model(attention_model, to_file='attention_plot.png', show_shapes=True, show_layer_names=True)"
   ]
  },
  {
   "cell_type": "code",
   "execution_count": 5,
   "metadata": {
    "colab": {},
    "colab_type": "code",
    "id": "vAcByblmlONG"
   },
   "outputs": [],
   "source": [
    "#encoder_model\n",
    "encoder_input = attention_model.input[0] # input_1\n",
    "encoder_embedding_layer = attention_model.layers[2]\n",
    "encoder_embedding = encoder_embedding_layer(encoder_input)\n",
    "encoder_lstm = attention_model.layers[4]\n",
    "encoder_output, state_h, state_c = encoder_lstm(encoder_embedding)\n",
    "encoder_state = [state_h, state_c]\n",
    "encoder_model = Model(encoder_input, [encoder_output] + encoder_state)"
   ]
  },
  {
   "cell_type": "code",
   "execution_count": 7,
   "metadata": {},
   "outputs": [],
   "source": [
    "encoder_model.save('attention_encoder.h5')"
   ]
  },
  {
   "cell_type": "code",
   "execution_count": 7,
   "metadata": {
    "colab": {
     "base_uri": "https://localhost:8080/",
     "height": 312
    },
    "colab_type": "code",
    "id": "d5L4EtskBP-m",
    "outputId": "fe35e75d-b3bf-4f3d-948c-987f6fbca637"
   },
   "outputs": [
    {
     "data": {
      "image/png": "[encoded data removed]",
      "text/plain": [
       "<IPython.core.display.Image object>"
      ]
     },
     "execution_count": 7,
     "metadata": {
      "tags": []
     },
     "output_type": "execute_result"
    }
   ],
   "source": [
    "plot_model(encoder_model, to_file='att_encoder_plot.png', show_shapes=True, show_layer_names=True)"
   ]
  },
  {
   "cell_type": "code",
   "execution_count": 8,
   "metadata": {
    "colab": {},
    "colab_type": "code",
    "id": "WpO_0FpwmHB2"
   },
   "outputs": [],
   "source": [
    "#decoder_output\n",
    "decoder_input = attention_model.input[1]\n",
    "decoder_state_h_input = Input(shape = (32,))\n",
    "decoder_state_c_input = Input(shape = (32,))\n",
    "decoder_state_input = [decoder_state_h_input, decoder_state_c_input]\n",
    "decoder_embedding_layer = attention_model.layers[3]\n",
    "decoder_embedding = decoder_embedding_layer(decoder_input)\n",
    "\n",
    "\n",
    "decoder_lstm = attention_model.layers[5]\n",
    "decoder_output, decoder_state_h, decoder_state_c = decoder_lstm(decoder_embedding, initial_state = decoder_state_input)\n",
    "decoder_state = [decoder_state_h, decoder_state_c]\n",
    "\n",
    "attention_input = Input(shape = (36,32,))\n",
    "attention_layer = attention_model.layers[6]\n",
    "attention_output = attention_layer([decoder_output, attention_input])\n",
    "\n",
    "concat_layer = attention_model.layers[7]\n",
    "concat_output = concat_layer([decoder_output, attention_output])\n",
    "\n",
    "\n",
    "dense_layer = attention_model.layers[8]\n",
    "dense_output = dense_layer(concat_output)\n",
    "\n",
    "decoder_model = Model([decoder_input] + decoder_state_input + [attention_input],[dense_output] + decoder_state)"
   ]
  },
  {
   "cell_type": "code",
   "execution_count": 9,
   "metadata": {},
   "outputs": [],
   "source": [
    "decoder_model.save('attention_decoder.h5')"
   ]
  },
  {
   "cell_type": "code",
   "execution_count": 9,
   "metadata": {
    "colab": {
     "base_uri": "https://localhost:8080/",
     "height": 644
    },
    "colab_type": "code",
    "id": "uPlD7I3-Bko-",
    "outputId": "5956963e-fcf8-4d8b-c914-59a8cab1994b"
   },
   "outputs": [
    {
     "data": {
      "image/png": "[encoded data removed]",
      "text/plain": [
       "<IPython.core.display.Image object>"
      ]
     },
     "execution_count": 9,
     "metadata": {
      "tags": []
     },
     "output_type": "execute_result"
    }
   ],
   "source": [
    "plot_model(decoder_model, to_file='att_decoder_plot.png', show_shapes=True, show_layer_names=True)"
   ]
  },
  {
   "cell_type": "code",
   "execution_count": null,
   "metadata": {
    "colab": {},
    "colab_type": "code",
    "id": "2NE_I5nGnW74"
   },
   "outputs": [],
   "source": [
    "def Attention_inference_beam(question, beam_size):\n",
    "    \n",
    "    \"\"\" Function Take question and give answer\"\"\"\n",
    "    \n",
    "    question = pd.DataFrame([question])\n",
    "    question = question[0]\n",
    "    question = que.texts_to_sequences(question)\n",
    "    question = pad_sequences(question, padding = 'post', maxlen = 36)\n",
    "    \n",
    "    \n",
    "    question = question.reshape(-1, 36)\n",
    "    \n",
    "    encoder_output, state_h, state_c = encoder_model.predict(question)\n",
    "    encoder_state = [state_h, state_c]\n",
    "    \n",
    "    target_word=np.zeros((1,1))\n",
    "    # <end>:1, <start>:2 \n",
    "    target_word[0,0] = 2\n",
    "    k = 0\n",
    "    lst_sent_index = [[[2], 0.0]]\n",
    "    stop_condition = False\n",
    "    \n",
    "    while not stop_condition:\n",
    "        temp = []\n",
    "        for s in lst_sent_index:\n",
    "            \n",
    "            output, state_h, state_c = decoder_model.predict([target_word] + encoder_state +[encoder_output])\n",
    "            encoder_state = [state_h,state_c]\n",
    "            \n",
    "            word_preds = np.argsort(output[0][0])[-beam_size:]\n",
    "            \n",
    "            for w in word_preds:\n",
    "                next_cap, prob = s[0][:], s[1]\n",
    "                next_cap.append(w)\n",
    "                prob += np.log(output[0][0][w])\n",
    "                temp.append([next_cap, prob])\n",
    "            \n",
    "        lst_sent_index = temp\n",
    "        lst_sent_index = sorted(lst_sent_index, reverse=False, key=lambda l: l[1])\n",
    "    \n",
    "        lst_sent_index = lst_sent_index[-beam_size:]\n",
    "    \n",
    "        top_proba = lst_sent_index[-1] # with Max Probability\n",
    "        \n",
    "        k+=1\n",
    "        if top_proba[0][-1] == 1 or k ==10:\n",
    "            stop_condition=True\n",
    "            \n",
    "        target_word = np.zeros((1,1))\n",
    "        target_word[0,0] = top_proba[0][-1]\n",
    "    \n",
    "    lst_sent_index = sorted(lst_sent_index, reverse = True, key = lambda l: l[1])\n",
    "    \n",
    "    lst_sent = []\n",
    "    for ele in lst_sent_index:\n",
    "        sent = ''\n",
    "        for i in range(1, len(ele[0])):\n",
    "            if ele[0][i] != 1:\n",
    "                sent = sent + ' ' + ans_index_word[int(ele[0][i])]\n",
    "        lst_sent.append(sent)\n",
    "    \n",
    "    return lst_sent"
   ]
  },
  {
   "cell_type": "code",
   "execution_count": null,
   "metadata": {
    "colab": {},
    "colab_type": "code",
    "id": "4V0VBkd0A0ap",
    "outputId": "b42315a4-fdc6-4616-827d-43adc44d1d49"
   },
   "outputs": [
    {
     "name": "stdout",
     "output_type": "stream",
     "text": [
      "question: answering machine give date time call mute reduce volume zero incoming messages left\n",
      "==================================================\n",
      "Actual_answer: yes <end>\n",
      "==================================================\n",
      "Predicted_answer:\n",
      "Response 1:  yes\n",
      "Response 2:  no\n"
     ]
    }
   ],
   "source": [
    "print('question:', x_train.values[18])\n",
    "print(\"=\"*50)\n",
    "print('Actual_answer:', y_train['decoder_output'].values[18])\n",
    "print(\"=\"*50)\n",
    "print('Predicted_answer:')\n",
    "sent1, sent2 = Attention_inference_beam(x_train.values[18], 2)\n",
    "print('Response 1:', sent1)\n",
    "print('Response 2:', sent2)"
   ]
  },
  {
   "cell_type": "code",
   "execution_count": null,
   "metadata": {
    "colab": {},
    "colab_type": "code",
    "id": "-2Py4GA5A0ar",
    "outputId": "e1c81e43-eea4-4e7c-8802-72acf4898407"
   },
   "outputs": [
    {
     "name": "stdout",
     "output_type": "stream",
     "text": [
      "question: vacuum manufactured site states vacuums made usa not say one\n",
      "==================================================\n",
      "Actual_answer: it is made in china <end>\n",
      "==================================================\n",
      "Predicted_answer:\n",
      "Response 1:  yes is made in china\n",
      "Response 2:  it is made in china\n"
     ]
    }
   ],
   "source": [
    "print('question:', x_train.values[112])\n",
    "print(\"=\"*50)\n",
    "print('Actual_answer:', y_train['decoder_output'].values[112])\n",
    "print(\"=\"*50)\n",
    "print('Predicted_answer:')\n",
    "sent1, sent2 = Attention_inference_beam(x_train.values[112], 2)\n",
    "print('Response 1:', sent1)\n",
    "print('Response 2:', sent2)"
   ]
  },
  {
   "cell_type": "code",
   "execution_count": null,
   "metadata": {
    "colab": {},
    "colab_type": "code",
    "id": "stKn7kkiA0at",
    "outputId": "43a57ea6-e74f-402d-e9ad-4df721d9abd0"
   },
   "outputs": [
    {
     "name": "stdout",
     "output_type": "stream",
     "text": [
      "question: wide bassinet\n",
      "==================================================\n",
      "Actual_answer: product dimensions 34 5 x 20 x 35 8 inches 27 pounds <end>\n",
      "==================================================\n",
      "Predicted_answer:\n",
      "Response 1:  the seat is about wide\n",
      "Response 2:  the seat is not wide\n"
     ]
    }
   ],
   "source": [
    "print('question:', x_train.values[200])\n",
    "print(\"=\"*50)\n",
    "print('Actual_answer:', y_train['decoder_output'].values[200])\n",
    "print(\"=\"*50)\n",
    "print('Predicted_answer:')\n",
    "sent1, sent2 = Attention_inference_beam(x_train.values[200], 2)\n",
    "print('Response 1:', sent1)\n",
    "print('Response 2:', sent2)"
   ]
  },
  {
   "cell_type": "code",
   "execution_count": null,
   "metadata": {
    "colab": {},
    "colab_type": "code",
    "id": "wxOmGq7JA0av",
    "outputId": "fc0e3c9f-1948-47e1-a017-3a1a9014b2f3"
   },
   "outputs": [
    {
     "name": "stdout",
     "output_type": "stream",
     "text": [
      "question: come 8 pieces per size\n",
      "==================================================\n",
      "Actual_answer: the order i received was all one size <end>\n",
      "==================================================\n",
      "Predicted_answer:\n",
      "Response 1:  it comes a pack\n",
      "Response 2:  the is a pack\n"
     ]
    }
   ],
   "source": [
    "print('question:', x_test.values[1])\n",
    "print(\"=\"*50)\n",
    "print('Actual_answer:', y_test['decoder_output'].values[1])\n",
    "print(\"=\"*50)\n",
    "print('Predicted_answer:')\n",
    "sent1, sent2 = Attention_inference_beam(x_test.values[1], 2)\n",
    "print('Response 1:', sent1)\n",
    "print('Response 2:', sent2)"
   ]
  },
  {
   "cell_type": "code",
   "execution_count": null,
   "metadata": {
    "colab": {},
    "colab_type": "code",
    "id": "i6MqI10tA0aw",
    "outputId": "99da1d7b-1e82-43a8-b7c8-891eee4ab685"
   },
   "outputs": [
    {
     "name": "stdout",
     "output_type": "stream",
     "text": [
      "question: recently purchased really like noticing sensor attached magents moves tilts slightly anyone experience\n",
      "==================================================\n",
      "Actual_answer: i have not <end>\n",
      "==================================================\n",
      "Predicted_answer:\n",
      "Response 1:  yes it does\n",
      "Response 2:  no it does\n"
     ]
    }
   ],
   "source": [
    "print('question:', x_test.values[1002])\n",
    "print(\"=\"*50)\n",
    "print('Actual_answer:', y_test['decoder_output'].values[1002])\n",
    "print(\"=\"*50)\n",
    "print('Predicted_answer:')\n",
    "sent1, sent2 = Attention_inference_beam(x_test.values[1002], 2)\n",
    "print('Response 1:', sent1)\n",
    "print('Response 2:', sent2)"
   ]
  },
  {
   "cell_type": "code",
   "execution_count": null,
   "metadata": {
    "colab": {},
    "colab_type": "code",
    "id": "IaA4jFzWA0ay",
    "outputId": "a6a6e4fa-58c9-422f-a631-8a2a28bb4d44"
   },
   "outputs": [
    {
     "name": "stdout",
     "output_type": "stream",
     "text": [
      "question: size woofer\n",
      "==================================================\n",
      "Actual_answer: it is 5 http www fluance com product sx6 high definition two way bookshelf loudspeakers eng 12 html <end>\n",
      "==================================================\n",
      "Predicted_answer:\n",
      "Response 1:  the dimensions are 1 2 x 8\n",
      "Response 2:  the dimensions are 1 2 x 5\n"
     ]
    }
   ],
   "source": [
    "print('question:', x_test.values[199])\n",
    "print(\"=\"*50)\n",
    "print('Actual_answer:', y_test['decoder_output'].values[199])\n",
    "print(\"=\"*50)\n",
    "print('Predicted_answer:')\n",
    "sent1, sent2 = Attention_inference_beam(x_test.values[199], 2)\n",
    "print('Response 1:', sent1)\n",
    "print('Response 2:', sent2)"
   ]
  },
  {
   "cell_type": "markdown",
   "metadata": {
    "colab_type": "text",
    "id": "rCXxBCqfA0a0"
   },
   "source": [
    "## 4. Metric: Bleu Score"
   ]
  },
  {
   "cell_type": "code",
   "execution_count": null,
   "metadata": {
    "colab": {},
    "colab_type": "code",
    "id": "LdV9RkmvA0a1"
   },
   "outputs": [],
   "source": [
    "from nltk.translate.bleu_score import corpus_bleu\n",
    "from tqdm import tqdm\n",
    "def bleu_score(question, answer):\n",
    "    \n",
    "    \"\"\" Function take actual answer and return BLEU score\"\"\"\n",
    "\n",
    "    actual_answer = []\n",
    "    predicted_answer = []\n",
    "\n",
    "    for i in tqdm(range(len(question))):\n",
    "        pred_answer = Attention_inference_beam(question.values[i], 1)\n",
    "        predicted_answer.append(pred_answer[0].split())\n",
    "        lw = answer.values[i].split()\n",
    "        lw.remove('<end>')\n",
    "        actual_answer.append(lw)\n",
    "\n",
    "        \n",
    "    print('BLEU-Score 1-gram:',corpus_bleu(actual_answer, predicted_answer, weights=(1, 0, 0, 0)))\n",
    "    print('BLEU-Score 2-gram:',corpus_bleu(actual_answer, predicted_answer, weights=(0, 1, 0, 0)))\n",
    "    print('BLEU-Score 3-gram:',corpus_bleu(actual_answer, predicted_answer, weights=(0, 0, 1, 0)))\n",
    "    print('BLEU-Score 4-gram:',corpus_bleu(actual_answer, predicted_answer, weights=(0, 0, 0, 1)))"
   ]
  },
  {
   "cell_type": "code",
   "execution_count": null,
   "metadata": {
    "colab": {},
    "colab_type": "code",
    "id": "R4MvVeMuA0a2",
    "outputId": "18afd082-06ac-46bd-f61a-44817c07fe7d"
   },
   "outputs": [
    {
     "name": "stderr",
     "output_type": "stream",
     "text": [
      "\r",
      "  0%|                                                                                        | 0/10000 [00:00<?, ?it/s]"
     ]
    },
    {
     "name": "stdout",
     "output_type": "stream",
     "text": [
      "Bleu Score of train_data:\n"
     ]
    },
    {
     "name": "stderr",
     "output_type": "stream",
     "text": [
      "100%|████████████████████████████████████████████████████████████████████████████| 10000/10000 [28:08<00:00,  5.92it/s]\n"
     ]
    },
    {
     "name": "stdout",
     "output_type": "stream",
     "text": [
      "BLEU-Score 1-gram: 0.20835087719298245\n",
      "BLEU-Score 2-gram: 0.08040816326530612\n",
      "BLEU-Score 3-gram: 3.19488817891374e-05\n",
      "BLEU-Score 4-gram: 2.2250738585072626e-308\n"
     ]
    }
   ],
   "source": [
    "print('Bleu Score of train_data:')\n",
    "bleu_score(x_train[:10000], y_train['decoder_output'][:10000])#using only 10k data. we can also use whole data but it take many time"
   ]
  },
  {
   "cell_type": "code",
   "execution_count": null,
   "metadata": {
    "colab": {},
    "colab_type": "code",
    "id": "_jh9H4y_A0a5",
    "outputId": "12f6564c-957a-445f-fd1d-20fd10cdc4ef"
   },
   "outputs": [
    {
     "name": "stderr",
     "output_type": "stream",
     "text": [
      "\r",
      "  0%|                                                                                         | 0/5000 [00:00<?, ?it/s]"
     ]
    },
    {
     "name": "stdout",
     "output_type": "stream",
     "text": [
      "Bleu Score of test_data:\n"
     ]
    },
    {
     "name": "stderr",
     "output_type": "stream",
     "text": [
      "100%|██████████████████████████████████████████████████████████████████████████████| 5000/5000 [14:40<00:00,  5.68it/s]\n"
     ]
    },
    {
     "name": "stdout",
     "output_type": "stream",
     "text": [
      "BLEU-Score 1-gram: 0.18105954944096783\n",
      "BLEU-Score 2-gram: 0.07240816326530612\n",
      "BLEU-Score 3-gram: 6.24921884764404e-05\n",
      "BLEU-Score 4-gram: 2.2250738585072626e-308\n"
     ]
    }
   ],
   "source": [
    "print('Bleu Score of test_data:')\n",
    "bleu_score(x_test[:5000], y_test['decoder_output'][:5000])#using only 5k data"
   ]
  },
  {
   "cell_type": "markdown",
   "metadata": {
    "colab_type": "text",
    "id": "jpn4tJ57A0a6"
   },
   "source": [
    "## 5. Compare: BLEU Score"
   ]
  },
  {
   "cell_type": "code",
   "execution_count": null,
   "metadata": {
    "colab": {},
    "colab_type": "code",
    "id": "5SkUCE9vA0a7",
    "outputId": "25239509-0617-4df0-9e93-fd204bb771a0"
   },
   "outputs": [
    {
     "name": "stdout",
     "output_type": "stream",
     "text": [
      "+-----------+-------+---------------------+-----------------------+------------------------+-------------------------+\n",
      "|   Model   |  Data |        1-gram       |         2-gram        |         3-gram         |          4-gram         |\n",
      "+-----------+-------+---------------------+-----------------------+------------------------+-------------------------+\n",
      "|     ED    | train | 0.10419256402490253 | 0.0010019246762979967 | 2.177635336818186e-308 |  2.177635336818186e-308 |\n",
      "|     ED    |  test | 0.10380434782608695 | 0.0013530443497870206 |  6.15991129727732e-05  | 2.2250738585072626e-308 |\n",
      "| Attention | train | 0.20835087719298245 |  0.08040816326530612  |  3.19488817891374e-05  | 2.2250738585072626e-308 |\n",
      "| Attention |  test | 0.18105954944096783 |  0.07240816326530612  |  6.24921884764404e-05  | 2.2250738585072626e-308 |\n",
      "+-----------+-------+---------------------+-----------------------+------------------------+-------------------------+\n"
     ]
    }
   ],
   "source": [
    "from prettytable import PrettyTable\n",
    "x = PrettyTable()\n",
    "\n",
    "x.field_names = [\"Model\", \"Data\", \"1-gram\", \"2-gram\", \"3-gram\", \"4-gram\"]\n",
    "x.add_row([\"ED\", \"train\", 0.10419256402490253, 0.0010019246762979967, 2.177635336818186e-308, 2.177635336818186e-308])\n",
    "x.add_row([\"ED\", \"test\", 0.10380434782608695, 0.0013530443497870206, 6.15991129727732e-05, 2.2250738585072626e-308])\n",
    "x.add_row([\"Attention\", \"train\", 0.20835087719298245, 0.08040816326530612, 3.19488817891374e-05, 2.2250738585072626e-308])\n",
    "x.add_row([\"Attention\", \"test\", 0.18105954944096783, 0.07240816326530612, 6.24921884764404e-05, 2.2250738585072626e-308])\n",
    "\n",
    "print(x)"
   ]
  },
  {
   "cell_type": "code",
   "execution_count": null,
   "metadata": {
    "colab": {},
    "colab_type": "code",
    "id": "5NsNLlHvA0a9"
   },
   "outputs": [],
   "source": []
  }
 ],
 "metadata": {
  "colab": {
   "name": "Attention.ipynb",
   "provenance": []
  },
  "kernelspec": {
   "display_name": "Python 3",
   "language": "python",
   "name": "python3"
  },
  "language_info": {
   "codemirror_mode": {
    "name": "ipython",
    "version": 3
   },
   "file_extension": ".py",
   "mimetype": "text/x-python",
   "name": "python",
   "nbconvert_exporter": "python",
   "pygments_lexer": "ipython3",
   "version": "3.6.5"
  }
 },
 "nbformat": 4,
 "nbformat_minor": 1
}
